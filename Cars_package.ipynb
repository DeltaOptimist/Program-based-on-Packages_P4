{
  "nbformat": 4,
  "nbformat_minor": 0,
  "metadata": {
    "colab": {
      "provenance": []
    },
    "kernelspec": {
      "name": "python3",
      "display_name": "Python 3"
    },
    "language_info": {
      "name": "python"
    }
  },
  "cells": [
    {
      "cell_type": "code",
      "execution_count": 4,
      "metadata": {
        "id": "oEzhqxt5dGv6"
      },
      "outputs": [],
      "source": [
        "from Cars import Audi, Bmw, Nissan"
      ]
    },
    {
      "cell_type": "code",
      "source": [
        "from Cars import Bmw\n",
        "from Cars import Audi\n",
        "from Cars import Nissan"
      ],
      "metadata": {
        "id": "9i5giQZAd5Sc"
      },
      "execution_count": 5,
      "outputs": []
    },
    {
      "cell_type": "code",
      "source": [
        "# Create an object of Bmw class & call its method\n",
        "ModBMW = Bmw.Bmw()\n",
        "ModBMW.outModels()"
      ],
      "metadata": {
        "colab": {
          "base_uri": "https://localhost:8080/"
        },
        "id": "scD-8fFpebjH",
        "outputId": "e4441266-ba62-4bb5-c2e4-0c2fdf6b8274"
      },
      "execution_count": 7,
      "outputs": [
        {
          "output_type": "stream",
          "name": "stdout",
          "text": [
            "These are the available models for BMW\n",
            "\ti8 \n",
            "\tx1 \n",
            "\tx5 \n",
            "\tx6 \n"
          ]
        }
      ]
    },
    {
      "cell_type": "code",
      "source": [
        "# Create an object of Audi class & call its method\n",
        "ModAudi = Audi.Audi()\n",
        "ModAudi.outModels()\n",
        "  \n",
        "# Create an object of Nissan class & call its method\n",
        "ModNissan = Nissan.Nissan()\n",
        "ModNissan.outModels()"
      ],
      "metadata": {
        "colab": {
          "base_uri": "https://localhost:8080/"
        },
        "id": "CtE1Nt3Xee-0",
        "outputId": "7a748e47-17a7-4397-a51b-2b039b331c71"
      },
      "execution_count": 8,
      "outputs": [
        {
          "output_type": "stream",
          "name": "stdout",
          "text": [
            "These are the available models for Audi\n",
            "\tq7 \n",
            "\ta6 \n",
            "\ta8 \n",
            "\ta3 \n",
            "These are the available models for Nissan\n",
            "\taltima \n",
            "\t370z \n",
            "\tcube \n",
            "\trogue \n"
          ]
        }
      ]
    },
    {
      "cell_type": "code",
      "source": [],
      "metadata": {
        "id": "VhePnfeAetbF"
      },
      "execution_count": null,
      "outputs": []
    }
  ]
}