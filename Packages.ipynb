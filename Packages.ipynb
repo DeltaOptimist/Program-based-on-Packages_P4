{
  "nbformat": 4,
  "nbformat_minor": 0,
  "metadata": {
    "colab": {
      "provenance": []
    },
    "kernelspec": {
      "name": "python3",
      "display_name": "Python 3"
    },
    "language_info": {
      "name": "python"
    }
  },
  "cells": [
    {
      "cell_type": "markdown",
      "source": [
        "Program to demonstrate usage of Packages"
      ],
      "metadata": {
        "id": "RHF20Xu-aLr7"
      }
    },
    {
      "cell_type": "code",
      "execution_count": 10,
      "metadata": {
        "id": "7jsu_4-EJSG3"
      },
      "outputs": [],
      "source": [
        "from simple_package import a, b"
      ]
    },
    {
      "cell_type": "code",
      "source": [
        "a.bar()\n",
        "b.foo()"
      ],
      "metadata": {
        "colab": {
          "base_uri": "https://localhost:8080/"
        },
        "id": "qNx4lEReK0Nx",
        "outputId": "fc0fc271-7449-467f-cff2-3a5fcf07a850"
      },
      "execution_count": 2,
      "outputs": [
        {
          "output_type": "stream",
          "name": "stdout",
          "text": [
            "Hello, function 'bar' from module 'a' calling\n",
            "Hello, function 'foo' from module 'b' calling\n"
          ]
        }
      ]
    },
    {
      "cell_type": "code",
      "source": [
        "import simple_package\n",
        "simple_package.a.bar()\n",
        "simple_package.b.foo()"
      ],
      "metadata": {
        "colab": {
          "base_uri": "https://localhost:8080/"
        },
        "id": "4-wb3bzaK351",
        "outputId": "f71f19e9-d267-434f-c789-a1e71baf9f55"
      },
      "execution_count": 4,
      "outputs": [
        {
          "output_type": "stream",
          "name": "stdout",
          "text": [
            "Hello, function 'bar' from module 'a' calling\n",
            "Hello, function 'foo' from module 'b' calling\n"
          ]
        }
      ]
    },
    {
      "cell_type": "code",
      "source": [
        "import requests\n",
        "r = requests.get('https://api.spotify.com/')\n",
        "r.status_code"
      ],
      "metadata": {
        "colab": {
          "base_uri": "https://localhost:8080/"
        },
        "id": "uULmxVjhLb6c",
        "outputId": "b3218cb2-e274-41a1-8591-cd2828dc9c1b"
      },
      "execution_count": 5,
      "outputs": [
        {
          "output_type": "execute_result",
          "data": {
            "text/plain": [
              "200"
            ]
          },
          "metadata": {},
          "execution_count": 5
        }
      ]
    },
    {
      "cell_type": "code",
      "source": [
        "print(r.headers)\n",
        "print(r.encoding)"
      ],
      "metadata": {
        "colab": {
          "base_uri": "https://localhost:8080/"
        },
        "id": "QSePQBmQLxLf",
        "outputId": "3a3db733-1702-4050-fbc3-922d5b57e7ac"
      },
      "execution_count": 6,
      "outputs": [
        {
          "output_type": "stream",
          "name": "stdout",
          "text": [
            "{'Connection': 'keep-alive', 'Content-Length': '23195', 'Last-Modified': 'Mon, 19 Sep 2022 22:09:42 GMT', 'ETag': '\"fc6d8f2f9c64a2e6ab120afabd538844\"', 'x-goog-generation': '1663625382646033', 'x-goog-metageneration': '1', 'x-goog-stored-content-encoding': 'identity', 'x-goog-stored-content-length': '105319', 'x-amz-meta-goog-reserved-file-mtime': '1663625339', 'Content-Type': 'text/html', 'Content-Encoding': 'gzip', 'Accept-Ranges': 'bytes', 'Date': 'Thu, 20 Oct 2022 16:17:04 GMT', 'Age': '201000', 'X-Served-By': 'cache-chi-kigq8000167-CHI, cache-bur-kbur8200091-BUR', 'X-Cache': 'HIT, HIT', 'X-Cache-Hits': '10058, 53565', 'Access-Control-Allow-Origin': '*', 'Cache-Control': 'public, max-age=86400'}\n",
            "ISO-8859-1\n"
          ]
        }
      ]
    },
    {
      "cell_type": "code",
      "source": [],
      "metadata": {
        "id": "f_dqBiXKL1aC"
      },
      "execution_count": 18,
      "outputs": []
    },
    {
      "cell_type": "code",
      "source": [
        " "
      ],
      "metadata": {
        "id": "xjm9yFsdZ2t9"
      },
      "execution_count": null,
      "outputs": []
    },
    {
      "cell_type": "code",
      "source": [],
      "metadata": {
        "id": "D5NkzKu1N0m-"
      },
      "execution_count": null,
      "outputs": []
    }
  ]
}